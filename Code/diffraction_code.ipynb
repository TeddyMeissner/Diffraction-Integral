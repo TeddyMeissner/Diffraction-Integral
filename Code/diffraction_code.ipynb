{
 "cells": [
  {
   "cell_type": "code",
   "execution_count": 10,
   "metadata": {},
   "outputs": [],
   "source": [
    "from __future__ import division\n",
    "import numpy as np\n",
    "import matplotlib.pyplot as plt\n",
    "from numpy import pi,sqrt,e,shape,zeros,fft\n",
    "import scipy.special as sc\n",
    "import matplotlib.animation as anim"
   ]
  },
  {
   "cell_type": "code",
   "execution_count": 11,
   "metadata": {},
   "outputs": [],
   "source": [
    "class Diffraction:\n",
    "    \"\"\"\n",
    "    Takes in initial condition, Length, Number of points, wavelength, propagation distance.\n",
    "    The main functionality is to return the FFT and Sinc based solutions at a plane distance z away.\n",
    "    \"\"\"\n",
    "    def __init__(self,initial_condition,L,N,lam,z):\n",
    "        self.f = initial_condition\n",
    "        self.L = L\n",
    "        self.N = N\n",
    "        self.z = z\n",
    "        self.lam = lam\n",
    "        self.dx = L/N\n",
    "        self.x = np.linspace(-L/2,L/2-self.dx,N)\n",
    "        self.y = y = np.linspace(-L/2,L/2-self.dx,N)\n",
    "        self.k = np.pi*2/self.lam\n",
    "\n",
    "    def fresnel_weights(self):\n",
    "        \"\"\"\n",
    "        Input: self\n",
    "        Return: Fresnel weights to be called on later in sinc based solution (Here symmetry between x and y grids is assumed)\n",
    "        \"\"\"\n",
    "        dx,z,x,y,k = self.dx,self.z,self.x,self.y,self.k\n",
    "        X, Y = np.meshgrid(x, y)\n",
    "        fres_x = zeros(shape(X),dtype = 'complex')\n",
    "        W = 1/(2*dx)\n",
    "        delta = dx\n",
    "\n",
    "        for m in range(len(x)):\n",
    "            for j in range(len(x)):\n",
    "                slide = x[m] - x[j]\n",
    "                u_1x = -pi*sqrt(2*z/k)*W - sqrt(k/(2*z))*slide\n",
    "                u_2x = pi*sqrt(2*z/k)*W - sqrt(k/(2*z))*slide\n",
    "                S_1x,C_1x = sc.fresnel(u_1x*sqrt(2/pi))\n",
    "                S_2x,C_2x = sc.fresnel(u_2x*sqrt(2/pi))\n",
    "                phi_x = (delta/pi)*sqrt(k/(2*z))*e**(1j*slide**2*k/(2*z))*sqrt(pi/2)*(C_2x - C_1x - 1j*(S_2x - S_1x))\n",
    "                fres_x[m,j] = phi_x\n",
    "        return fres_x,fres_x\n",
    "\n",
    "    def sinc_solution(self):\n",
    "        \"\"\"\n",
    "        Input: self\n",
    "        Return: sinc based solution as outlined in the writup and 'Diffraction integral computation using sinc approximation' by Cubillos et al. \n",
    "        \"\"\"\n",
    "        w_x,w_y = self.fresnel_weights()\n",
    "        return e**(1j*self.k*self.z)*w_x@self.f@w_y.T\n",
    "\n",
    "    def fft_solution(self):\n",
    "        \"\"\"\n",
    "        Input: self\n",
    "        Return: FFT based solution\n",
    "        \"\"\"\n",
    "        L,N,f,k,z = self.L,self.N,self.f,self.k,self.z\n",
    "        freq_x = np.linspace(-N/2,N/2-1,N)*(2*np.pi)/L\n",
    "        freq_y = np.linspace(-N/2,N/2-1,N)*(2*np.pi)/L\n",
    "        freq_x,freq_y = np.meshgrid(freq_x,freq_y)\n",
    "        fft2 = fft.fftshift(fft.fft2(f))\n",
    "        fft2_prop = np.e**(1j*k*z)*fft2*np.e**(((freq_y)**2 + (freq_x)**2)*z/(2*1j*k))\n",
    "        return fft.ifft2(fft2_prop)\n",
    "\n",
    "    def three_d(self,solution,angle = [90,45],title = '3-D Plot'): \n",
    "        \"\"\"\n",
    "        Input: Solution (or initial condition if wanted), Optional: Different angle [x,y] , title  \n",
    "        Returns: 3-D image\n",
    "        \"\"\"\n",
    "        X, Y = np.meshgrid(self.x, self.y)\n",
    "        fig = plt.figure(figsize = (12,12))\n",
    "        ax = plt.axes(projection='3d')\n",
    "\n",
    "        surf = ax.plot_surface(X, Y, solution, cmap = plt.cm.cividis)\n",
    "        ax.set_xlabel('x', labelpad=20)\n",
    "        ax.set_ylabel('y', labelpad=20)\n",
    "        ax.set_zlabel('z', labelpad=10)\n",
    "        plt.title(title)\n",
    "        fig.colorbar(surf, shrink=0.3, aspect=20)\n",
    "        ax.view_init(angle[0],angle[1])\n",
    "        # ax.view_init(10, 20)\n",
    "        plt.show()"
   ]
  },
  {
   "cell_type": "code",
   "execution_count": null,
   "metadata": {},
   "outputs": [],
   "source": []
  }
 ],
 "metadata": {
  "kernelspec": {
   "display_name": "base",
   "language": "python",
   "name": "python3"
  },
  "language_info": {
   "codemirror_mode": {
    "name": "ipython",
    "version": 3
   },
   "file_extension": ".py",
   "mimetype": "text/x-python",
   "name": "python",
   "nbconvert_exporter": "python",
   "pygments_lexer": "ipython3",
   "version": "3.9.12 (main, Apr  4 2022, 05:22:27) [MSC v.1916 64 bit (AMD64)]"
  },
  "orig_nbformat": 4,
  "vscode": {
   "interpreter": {
    "hash": "5e317de2eb067e54280a06115eaccd65787b5c64aa5f5ef1b528f939378b9efa"
   }
  }
 },
 "nbformat": 4,
 "nbformat_minor": 2
}
